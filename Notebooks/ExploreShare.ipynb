{
 "cells": [
  {
   "cell_type": "code",
   "execution_count": 3,
   "metadata": {},
   "outputs": [],
   "source": [
    "import pandas as pd\n",
    "import yfinance as yf\n",
    "import matplotlib.pyplot as plt\n",
    "import seaborn"
   ]
  },
  {
   "cell_type": "code",
   "execution_count": 2,
   "metadata": {},
   "outputs": [],
   "source": [
    "apple = yf.Ticker(\"AAPL\")"
   ]
  },
  {
   "cell_type": "markdown",
   "metadata": {},
   "source": [
    "General Stock Info"
   ]
  },
  {
   "cell_type": "code",
   "execution_count": 3,
   "metadata": {},
   "outputs": [
    {
     "data": {
      "text/plain": [
       "{'zip': '95014',\n",
       " 'sector': 'Technology',\n",
       " 'fullTimeEmployees': 137000,\n",
       " 'longBusinessSummary': 'Apple Inc. designs, manufactures, and markets smartphones, personal computers, tablets, wearables, and accessories worldwide. It also sells various related services. The company offers iPhone, a line of smartphones; Mac, a line of personal computers; iPad, a line of multi-purpose tablets; and wearables, home, and accessories comprising AirPods, Apple TV, Apple Watch, Beats products, HomePod, iPod touch, and other Apple-branded and third-party accessories. It also provides digital content stores and streaming services; AppleCare support services; and iCloud, a cloud service, which stores music, photos, contacts, calendars, mail, documents, and others. In addition, the company offers various service, such as Apple Arcade, a game subscription service; Apple Card, a co-branded credit card; Apple News+, a subscription news and magazine service; and Apple Pay, a cashless payment service, as well as licenses its intellectual property, and provides other related services. The company serves consumers, and small and mid-sized businesses; and the education, enterprise, and government markets. It sells and delivers third-party applications for its products through the App Store, Mac App Store, and Watch App Store. The company also sells its products through its retail and online stores, and direct sales force; and third-party cellular network carriers, wholesalers, retailers, and resellers. Apple Inc. has a collaboration with Google to develop COVID-19 tracking system for Android and iOS devices. Apple Inc. was founded in 1977 and is headquartered in Cupertino, California.',\n",
       " 'city': 'Cupertino',\n",
       " 'phone': '408-996-1010',\n",
       " 'state': 'CA',\n",
       " 'country': 'United States',\n",
       " 'companyOfficers': [],\n",
       " 'website': 'http://www.apple.com',\n",
       " 'maxAge': 86400,\n",
       " 'address1': 'One Apple Park Way',\n",
       " 'industry': 'Consumer Electronics',\n",
       " 'previousClose': 440.25,\n",
       " 'regularMarketOpen': 441.62,\n",
       " 'twoHundredDayAverage': 317.36325,\n",
       " 'trailingAnnualDividendYield': 0.007109597,\n",
       " 'payoutRatio': 0.2373,\n",
       " 'volume24Hr': None,\n",
       " 'regularMarketDayHigh': 449.7,\n",
       " 'navPrice': None,\n",
       " 'averageDailyVolume10Day': 45332350,\n",
       " 'totalAssets': None,\n",
       " 'regularMarketPreviousClose': 440.25,\n",
       " 'fiftyDayAverage': 380.2297,\n",
       " 'trailingAnnualDividendRate': 3.13,\n",
       " 'open': 441.62,\n",
       " 'toCurrency': None,\n",
       " 'averageVolume10days': 45332350,\n",
       " 'expireDate': None,\n",
       " 'yield': None,\n",
       " 'algorithm': None,\n",
       " 'dividendRate': 3.28,\n",
       " 'exDividendDate': 1596758400,\n",
       " 'beta': 1.226373,\n",
       " 'circulatingSupply': None,\n",
       " 'startDate': None,\n",
       " 'regularMarketDayLow': 439.19,\n",
       " 'priceHint': 2,\n",
       " 'currency': 'USD',\n",
       " 'trailingPE': 34.03337,\n",
       " 'regularMarketVolume': 22414467,\n",
       " 'lastMarket': None,\n",
       " 'maxSupply': None,\n",
       " 'openInterest': None,\n",
       " 'marketCap': 1918603493376,\n",
       " 'volumeAllCurrencies': None,\n",
       " 'strikePrice': None,\n",
       " 'averageVolume': 35744528,\n",
       " 'priceToSalesTrailing12Months': 7.005859,\n",
       " 'dayLow': 439.19,\n",
       " 'ask': 448.78,\n",
       " 'ytdReturn': None,\n",
       " 'askSize': 900,\n",
       " 'volume': 22414467,\n",
       " 'fiftyTwoWeekHigh': 449.7,\n",
       " 'forwardPE': 28.8944,\n",
       " 'fromCurrency': None,\n",
       " 'fiveYearAvgDividendYield': 1.56,\n",
       " 'fiftyTwoWeekLow': 199.15,\n",
       " 'bid': 448.66,\n",
       " 'tradeable': False,\n",
       " 'dividendYield': 0.0075,\n",
       " 'bidSize': 900,\n",
       " 'dayHigh': 449.7,\n",
       " 'exchange': 'NMS',\n",
       " 'shortName': 'Apple Inc.',\n",
       " 'longName': 'Apple Inc.',\n",
       " 'exchangeTimezoneName': 'America/New_York',\n",
       " 'exchangeTimezoneShortName': 'EDT',\n",
       " 'isEsgPopulated': False,\n",
       " 'gmtOffSetMilliseconds': '-14400000',\n",
       " 'quoteType': 'EQUITY',\n",
       " 'symbol': 'AAPL',\n",
       " 'messageBoardId': 'finmb_24937',\n",
       " 'market': 'us_market',\n",
       " 'annualHoldingsTurnover': None,\n",
       " 'enterpriseToRevenue': 6.98,\n",
       " 'beta3Year': None,\n",
       " 'profitMargins': 0.21334,\n",
       " 'enterpriseToEbitda': 24.298,\n",
       " '52WeekChange': 1.1641352,\n",
       " 'morningStarRiskRating': None,\n",
       " 'forwardEps': 15.53,\n",
       " 'revenueQuarterlyGrowth': None,\n",
       " 'sharesOutstanding': 4275630080,\n",
       " 'fundInceptionDate': None,\n",
       " 'annualReportExpenseRatio': None,\n",
       " 'bookValue': 16.873,\n",
       " 'sharesShort': 35234606,\n",
       " 'sharesPercentSharesOut': 0.0082,\n",
       " 'fundFamily': None,\n",
       " 'lastFiscalYearEnd': 1569628800,\n",
       " 'heldPercentInstitutions': 0.62115,\n",
       " 'netIncomeToCommon': 58424000512,\n",
       " 'trailingEps': 13.185,\n",
       " 'lastDividendValue': None,\n",
       " 'SandP52WeekChange': 0.13263035,\n",
       " 'priceToBook': 26.592783,\n",
       " 'heldPercentInsiders': 0.00066,\n",
       " 'nextFiscalYearEnd': 1632787200,\n",
       " 'mostRecentQuarter': 1593216000,\n",
       " 'shortRatio': 0.96,\n",
       " 'sharesShortPreviousMonthDate': 1592179200,\n",
       " 'floatShares': 4271059072,\n",
       " 'enterpriseValue': 1911508828160,\n",
       " 'threeYearAverageReturn': None,\n",
       " 'lastSplitDate': 1402272000,\n",
       " 'lastSplitFactor': '7:1',\n",
       " 'legalType': None,\n",
       " 'morningStarOverallRating': None,\n",
       " 'earningsQuarterlyGrowth': 0.12,\n",
       " 'dateShortInterest': 1594771200,\n",
       " 'pegRatio': 2.72,\n",
       " 'lastCapGain': None,\n",
       " 'shortPercentOfFloat': 0.0082,\n",
       " 'sharesShortPriorMonth': 34828293,\n",
       " 'category': None,\n",
       " 'fiveYearAverageReturn': None,\n",
       " 'ebitdaMargins': 0.28726998,\n",
       " 'grossMargins': 0.38188,\n",
       " 'operatingCashflow': 80008003584,\n",
       " 'revenueGrowth': 0.109,\n",
       " 'operatingMargins': 0.24516001,\n",
       " 'ebitda': 78671003648,\n",
       " 'targetLowPrice': 195.43,\n",
       " 'recommendationKey': 'buy',\n",
       " 'grossProfits': 98392000000,\n",
       " 'freeCashflow': 52257624064,\n",
       " 'targetMedianPrice': 440,\n",
       " 'currentPrice': 448.7,\n",
       " 'earningsGrowth': 0.183,\n",
       " 'currentRatio': 1.469,\n",
       " 'returnOnAssets': 0.13121,\n",
       " 'numberOfAnalystOpinions': 38,\n",
       " 'targetMeanPrice': 419.25,\n",
       " 'debtToEquity': 169.041,\n",
       " 'returnOnEquity': 0.69248,\n",
       " 'targetHighPrice': 485,\n",
       " 'totalCash': 93025001472,\n",
       " 'totalDebt': 122185998336,\n",
       " 'totalRevenue': 273857003520,\n",
       " 'totalCashPerShare': 21.757,\n",
       " 'financialCurrency': 'USD',\n",
       " 'revenuePerShare': 62.316,\n",
       " 'quickRatio': 1.312,\n",
       " 'recommendationMean': 2.2,\n",
       " 'regularMarketPrice': 441.62,\n",
       " 'logo_url': 'https://logo.clearbit.com/apple.com',\n",
       " 'valuationDescription': 'Overvalued',\n",
       " 'valuationDiscount': '-11%',\n",
       " 'valuationProvider': 'Trading Central',\n",
       " 'valuationRelativeValue': 'Premium'}"
      ]
     },
     "execution_count": 3,
     "metadata": {},
     "output_type": "execute_result"
    }
   ],
   "source": [
    "apple.info"
   ]
  },
  {
   "cell_type": "markdown",
   "metadata": {},
   "source": [
    "Share price Hist."
   ]
  },
  {
   "cell_type": "code",
   "execution_count": 4,
   "metadata": {},
   "outputs": [
    {
     "data": {
      "text/plain": [
       "<AxesSubplot:xlabel='Date'>"
      ]
     },
     "execution_count": 4,
     "metadata": {},
     "output_type": "execute_result"
    },
    {
     "data": {
      "image/png": "[encoded data removed]",
      "text/plain": [
       "<Figure size 1152x648 with 1 Axes>"
      ]
     },
     "metadata": {
      "needs_background": "light"
     },
     "output_type": "display_data"
    }
   ],
   "source": [
    "stockPrice = apple.history(\"max\")[\"Open\"]\n",
    "stockPrice.plot(figsize=(16, 9))"
   ]
  },
  {
   "cell_type": "code",
   "execution_count": 5,
   "metadata": {},
   "outputs": [
    {
     "name": "stdout",
     "output_type": "stream",
     "text": [
      "Technology  -  Consumer Electronics\n"
     ]
    }
   ],
   "source": [
    "print(apple.info[\"sector\"], \" - \", apple.info[\"industry\"])"
   ]
  },
  {
   "cell_type": "code",
   "execution_count": 6,
   "metadata": {},
   "outputs": [
    {
     "data": {
      "text/plain": [
       "1918603493376"
      ]
     },
     "execution_count": 6,
     "metadata": {},
     "output_type": "execute_result"
    }
   ],
   "source": [
    "apple.info[\"marketCap\"]"
   ]
  },
  {
   "cell_type": "code",
   "execution_count": 7,
   "metadata": {},
   "outputs": [
    {
     "data": {
      "text/plain": [
       "22414467"
      ]
     },
     "execution_count": 7,
     "metadata": {},
     "output_type": "execute_result"
    }
   ],
   "source": [
    "apple.info[\"volume\"]"
   ]
  },
  {
   "cell_type": "code",
   "execution_count": 8,
   "metadata": {},
   "outputs": [
    {
     "data": {
      "text/plain": [
       "1.226373"
      ]
     },
     "execution_count": 8,
     "metadata": {},
     "output_type": "execute_result"
    }
   ],
   "source": [
    "apple.info[\"beta\"]"
   ]
  },
  {
   "cell_type": "markdown",
   "metadata": {},
   "source": [
    "Dividends by Date"
   ]
  },
  {
   "cell_type": "code",
   "execution_count": 9,
   "metadata": {},
   "outputs": [
    {
     "data": {
      "text/plain": [
       "3.13"
      ]
     },
     "execution_count": 9,
     "metadata": {},
     "output_type": "execute_result"
    }
   ],
   "source": [
    "apple.info[\"trailingAnnualDividendRate\"]"
   ]
  },
  {
   "cell_type": "code",
   "execution_count": 10,
   "metadata": {},
   "outputs": [
    {
     "data": {
      "text/html": [
       "<div>\n",
       "<style scoped>\n",
       "    .dataframe tbody tr th:only-of-type {\n",
       "        vertical-align: middle;\n",
       "    }\n",
       "\n",
       "    .dataframe tbody tr th {\n",
       "        vertical-align: top;\n",
       "    }\n",
       "\n",
       "    .dataframe thead th {\n",
       "        text-align: right;\n",
       "    }\n",
       "</style>\n",
       "<table border=\"1\" class=\"dataframe\">\n",
       "  <thead>\n",
       "    <tr style=\"text-align: right;\">\n",
       "      <th></th>\n",
       "      <th>Dividends</th>\n",
       "      <th>Stock Splits</th>\n",
       "    </tr>\n",
       "    <tr>\n",
       "      <th>Date</th>\n",
       "      <th></th>\n",
       "      <th></th>\n",
       "    </tr>\n",
       "  </thead>\n",
       "  <tbody>\n",
       "    <tr>\n",
       "      <th>2019-02-08</th>\n",
       "      <td>0.73</td>\n",
       "      <td>0.0</td>\n",
       "    </tr>\n",
       "    <tr>\n",
       "      <th>2019-05-10</th>\n",
       "      <td>0.77</td>\n",
       "      <td>0.0</td>\n",
       "    </tr>\n",
       "    <tr>\n",
       "      <th>2019-08-09</th>\n",
       "      <td>0.77</td>\n",
       "      <td>0.0</td>\n",
       "    </tr>\n",
       "    <tr>\n",
       "      <th>2019-11-07</th>\n",
       "      <td>0.77</td>\n",
       "      <td>0.0</td>\n",
       "    </tr>\n",
       "  </tbody>\n",
       "</table>\n",
       "</div>"
      ],
      "text/plain": [
       "            Dividends  Stock Splits\n",
       "Date                               \n",
       "2019-02-08       0.73           0.0\n",
       "2019-05-10       0.77           0.0\n",
       "2019-08-09       0.77           0.0\n",
       "2019-11-07       0.77           0.0"
      ]
     },
     "execution_count": 10,
     "metadata": {},
     "output_type": "execute_result"
    }
   ],
   "source": [
    "apple.actions[\"2019\"]"
   ]
  },
  {
   "cell_type": "code",
   "execution_count": 11,
   "metadata": {},
   "outputs": [
    {
     "data": {
      "text/plain": [
       "3.04"
      ]
     },
     "execution_count": 11,
     "metadata": {},
     "output_type": "execute_result"
    }
   ],
   "source": [
    "totalDvididends = sum(apple.actions[\"2019\"][\"Dividends\"])\n",
    "totalDvididends"
   ]
  },
  {
   "cell_type": "markdown",
   "metadata": {},
   "source": [
    "Dividend Yield"
   ]
  },
  {
   "cell_type": "code",
   "execution_count": 12,
   "metadata": {},
   "outputs": [
    {
     "data": {
      "text/plain": [
       "1.4786991122941184"
      ]
     },
     "execution_count": 12,
     "metadata": {},
     "output_type": "execute_result"
    }
   ],
   "source": [
    "avgStockPrice = pd.Series.mean(stockPrice[\"2019\"])\n",
    "dividendYield = totalDvididends/avgStockPrice\n",
    "dividendYield * 100"
   ]
  },
  {
   "cell_type": "code",
   "execution_count": 13,
   "metadata": {},
   "outputs": [
    {
     "data": {
      "text/plain": [
       "1.56"
      ]
     },
     "execution_count": 13,
     "metadata": {},
     "output_type": "execute_result"
    }
   ],
   "source": [
    "apple.info[\"fiveYearAvgDividendYield\"]"
   ]
  },
  {
   "cell_type": "code",
   "execution_count": 14,
   "metadata": {},
   "outputs": [
    {
     "data": {
      "text/plain": [
       "1596758400"
      ]
     },
     "execution_count": 14,
     "metadata": {},
     "output_type": "execute_result"
    }
   ],
   "source": [
    "apple.info[\"exDividendDate\"]"
   ]
  },
  {
   "cell_type": "code",
   "execution_count": 15,
   "metadata": {},
   "outputs": [
    {
     "data": {
      "text/plain": [
       "0.2373"
      ]
     },
     "execution_count": 15,
     "metadata": {},
     "output_type": "execute_result"
    }
   ],
   "source": [
    "apple.info[\"payoutRatio\"]"
   ]
  },
  {
   "cell_type": "markdown",
   "metadata": {},
   "source": [
    "Income Statement Last 4 Y"
   ]
  },
  {
   "cell_type": "code",
   "execution_count": 16,
   "metadata": {},
   "outputs": [
    {
     "data": {
      "text/html": [
       "<div>\n",
       "<style scoped>\n",
       "    .dataframe tbody tr th:only-of-type {\n",
       "        vertical-align: middle;\n",
       "    }\n",
       "\n",
       "    .dataframe tbody tr th {\n",
       "        vertical-align: top;\n",
       "    }\n",
       "\n",
       "    .dataframe thead th {\n",
       "        text-align: right;\n",
       "    }\n",
       "</style>\n",
       "<table border=\"1\" class=\"dataframe\">\n",
       "  <thead>\n",
       "    <tr style=\"text-align: right;\">\n",
       "      <th></th>\n",
       "      <th>2019-09-28</th>\n",
       "      <th>2018-09-29</th>\n",
       "      <th>2017-09-30</th>\n",
       "      <th>2016-09-24</th>\n",
       "    </tr>\n",
       "  </thead>\n",
       "  <tbody>\n",
       "    <tr>\n",
       "      <th>Research Development</th>\n",
       "      <td>1.6217e+10</td>\n",
       "      <td>1.4236e+10</td>\n",
       "      <td>1.1581e+10</td>\n",
       "      <td>1.0045e+10</td>\n",
       "    </tr>\n",
       "    <tr>\n",
       "      <th>Effect Of Accounting Charges</th>\n",
       "      <td>None</td>\n",
       "      <td>None</td>\n",
       "      <td>None</td>\n",
       "      <td>None</td>\n",
       "    </tr>\n",
       "    <tr>\n",
       "      <th>Income Before Tax</th>\n",
       "      <td>6.5737e+10</td>\n",
       "      <td>7.2903e+10</td>\n",
       "      <td>6.4089e+10</td>\n",
       "      <td>6.1372e+10</td>\n",
       "    </tr>\n",
       "    <tr>\n",
       "      <th>Minority Interest</th>\n",
       "      <td>None</td>\n",
       "      <td>None</td>\n",
       "      <td>None</td>\n",
       "      <td>None</td>\n",
       "    </tr>\n",
       "    <tr>\n",
       "      <th>Net Income</th>\n",
       "      <td>5.5256e+10</td>\n",
       "      <td>5.9531e+10</td>\n",
       "      <td>4.8351e+10</td>\n",
       "      <td>4.5687e+10</td>\n",
       "    </tr>\n",
       "    <tr>\n",
       "      <th>Selling General Administrative</th>\n",
       "      <td>1.8245e+10</td>\n",
       "      <td>1.6705e+10</td>\n",
       "      <td>1.5261e+10</td>\n",
       "      <td>1.4194e+10</td>\n",
       "    </tr>\n",
       "    <tr>\n",
       "      <th>Gross Profit</th>\n",
       "      <td>9.8392e+10</td>\n",
       "      <td>1.01839e+11</td>\n",
       "      <td>8.8186e+10</td>\n",
       "      <td>8.4263e+10</td>\n",
       "    </tr>\n",
       "    <tr>\n",
       "      <th>Ebit</th>\n",
       "      <td>6.393e+10</td>\n",
       "      <td>7.0898e+10</td>\n",
       "      <td>6.1344e+10</td>\n",
       "      <td>6.0024e+10</td>\n",
       "    </tr>\n",
       "    <tr>\n",
       "      <th>Operating Income</th>\n",
       "      <td>6.393e+10</td>\n",
       "      <td>7.0898e+10</td>\n",
       "      <td>6.1344e+10</td>\n",
       "      <td>6.0024e+10</td>\n",
       "    </tr>\n",
       "    <tr>\n",
       "      <th>Other Operating Expenses</th>\n",
       "      <td>None</td>\n",
       "      <td>None</td>\n",
       "      <td>None</td>\n",
       "      <td>None</td>\n",
       "    </tr>\n",
       "    <tr>\n",
       "      <th>Interest Expense</th>\n",
       "      <td>-3.576e+09</td>\n",
       "      <td>-3.24e+09</td>\n",
       "      <td>-2.323e+09</td>\n",
       "      <td>-1.456e+09</td>\n",
       "    </tr>\n",
       "    <tr>\n",
       "      <th>Extraordinary Items</th>\n",
       "      <td>None</td>\n",
       "      <td>None</td>\n",
       "      <td>None</td>\n",
       "      <td>None</td>\n",
       "    </tr>\n",
       "    <tr>\n",
       "      <th>Non Recurring</th>\n",
       "      <td>None</td>\n",
       "      <td>None</td>\n",
       "      <td>None</td>\n",
       "      <td>None</td>\n",
       "    </tr>\n",
       "    <tr>\n",
       "      <th>Other Items</th>\n",
       "      <td>None</td>\n",
       "      <td>None</td>\n",
       "      <td>None</td>\n",
       "      <td>None</td>\n",
       "    </tr>\n",
       "    <tr>\n",
       "      <th>Income Tax Expense</th>\n",
       "      <td>1.0481e+10</td>\n",
       "      <td>1.3372e+10</td>\n",
       "      <td>1.5738e+10</td>\n",
       "      <td>1.5685e+10</td>\n",
       "    </tr>\n",
       "    <tr>\n",
       "      <th>Total Revenue</th>\n",
       "      <td>2.60174e+11</td>\n",
       "      <td>2.65595e+11</td>\n",
       "      <td>2.29234e+11</td>\n",
       "      <td>2.15639e+11</td>\n",
       "    </tr>\n",
       "    <tr>\n",
       "      <th>Total Operating Expenses</th>\n",
       "      <td>1.96244e+11</td>\n",
       "      <td>1.94697e+11</td>\n",
       "      <td>1.6789e+11</td>\n",
       "      <td>1.55615e+11</td>\n",
       "    </tr>\n",
       "    <tr>\n",
       "      <th>Cost Of Revenue</th>\n",
       "      <td>1.61782e+11</td>\n",
       "      <td>1.63756e+11</td>\n",
       "      <td>1.41048e+11</td>\n",
       "      <td>1.31376e+11</td>\n",
       "    </tr>\n",
       "    <tr>\n",
       "      <th>Total Other Income Expense Net</th>\n",
       "      <td>1.807e+09</td>\n",
       "      <td>2.005e+09</td>\n",
       "      <td>2.745e+09</td>\n",
       "      <td>1.348e+09</td>\n",
       "    </tr>\n",
       "    <tr>\n",
       "      <th>Discontinued Operations</th>\n",
       "      <td>None</td>\n",
       "      <td>None</td>\n",
       "      <td>None</td>\n",
       "      <td>None</td>\n",
       "    </tr>\n",
       "    <tr>\n",
       "      <th>Net Income From Continuing Ops</th>\n",
       "      <td>5.5256e+10</td>\n",
       "      <td>5.9531e+10</td>\n",
       "      <td>4.8351e+10</td>\n",
       "      <td>4.5687e+10</td>\n",
       "    </tr>\n",
       "    <tr>\n",
       "      <th>Net Income Applicable To Common Shares</th>\n",
       "      <td>5.5256e+10</td>\n",
       "      <td>5.9531e+10</td>\n",
       "      <td>4.8351e+10</td>\n",
       "      <td>4.5687e+10</td>\n",
       "    </tr>\n",
       "  </tbody>\n",
       "</table>\n",
       "</div>"
      ],
      "text/plain": [
       "                                         2019-09-28   2018-09-29   2017-09-30  \\\n",
       "Research Development                     1.6217e+10   1.4236e+10   1.1581e+10   \n",
       "Effect Of Accounting Charges                   None         None         None   \n",
       "Income Before Tax                        6.5737e+10   7.2903e+10   6.4089e+10   \n",
       "Minority Interest                              None         None         None   \n",
       "Net Income                               5.5256e+10   5.9531e+10   4.8351e+10   \n",
       "Selling General Administrative           1.8245e+10   1.6705e+10   1.5261e+10   \n",
       "Gross Profit                             9.8392e+10  1.01839e+11   8.8186e+10   \n",
       "Ebit                                      6.393e+10   7.0898e+10   6.1344e+10   \n",
       "Operating Income                          6.393e+10   7.0898e+10   6.1344e+10   \n",
       "Other Operating Expenses                       None         None         None   \n",
       "Interest Expense                         -3.576e+09    -3.24e+09   -2.323e+09   \n",
       "Extraordinary Items                            None         None         None   \n",
       "Non Recurring                                  None         None         None   \n",
       "Other Items                                    None         None         None   \n",
       "Income Tax Expense                       1.0481e+10   1.3372e+10   1.5738e+10   \n",
       "Total Revenue                           2.60174e+11  2.65595e+11  2.29234e+11   \n",
       "Total Operating Expenses                1.96244e+11  1.94697e+11   1.6789e+11   \n",
       "Cost Of Revenue                         1.61782e+11  1.63756e+11  1.41048e+11   \n",
       "Total Other Income Expense Net            1.807e+09    2.005e+09    2.745e+09   \n",
       "Discontinued Operations                        None         None         None   \n",
       "Net Income From Continuing Ops           5.5256e+10   5.9531e+10   4.8351e+10   \n",
       "Net Income Applicable To Common Shares   5.5256e+10   5.9531e+10   4.8351e+10   \n",
       "\n",
       "                                         2016-09-24  \n",
       "Research Development                     1.0045e+10  \n",
       "Effect Of Accounting Charges                   None  \n",
       "Income Before Tax                        6.1372e+10  \n",
       "Minority Interest                              None  \n",
       "Net Income                               4.5687e+10  \n",
       "Selling General Administrative           1.4194e+10  \n",
       "Gross Profit                             8.4263e+10  \n",
       "Ebit                                     6.0024e+10  \n",
       "Operating Income                         6.0024e+10  \n",
       "Other Operating Expenses                       None  \n",
       "Interest Expense                         -1.456e+09  \n",
       "Extraordinary Items                            None  \n",
       "Non Recurring                                  None  \n",
       "Other Items                                    None  \n",
       "Income Tax Expense                       1.5685e+10  \n",
       "Total Revenue                           2.15639e+11  \n",
       "Total Operating Expenses                1.55615e+11  \n",
       "Cost Of Revenue                         1.31376e+11  \n",
       "Total Other Income Expense Net            1.348e+09  \n",
       "Discontinued Operations                        None  \n",
       "Net Income From Continuing Ops           4.5687e+10  \n",
       "Net Income Applicable To Common Shares   4.5687e+10  "
      ]
     },
     "execution_count": 16,
     "metadata": {},
     "output_type": "execute_result"
    }
   ],
   "source": [
    "apple.financials"
   ]
  },
  {
   "cell_type": "code",
   "execution_count": 1,
   "metadata": {},
   "outputs": [
    {
     "ename": "NameError",
     "evalue": "name 'apple' is not defined",
     "output_type": "error",
     "traceback": [
      "\u001b[1;31m---------------------------------------------------------------------------\u001b[0m",
      "\u001b[1;31mNameError\u001b[0m                                 Traceback (most recent call last)",
      "\u001b[1;32m<ipython-input-1-84843a6a5f05>\u001b[0m in \u001b[0;36m<module>\u001b[1;34m\u001b[0m\n\u001b[1;32m----> 1\u001b[1;33m \u001b[0mapple\u001b[0m\u001b[1;33m.\u001b[0m\u001b[0mfinancials\u001b[0m\u001b[1;33m.\u001b[0m\u001b[0mloc\u001b[0m\u001b[1;33m[\u001b[0m\u001b[1;34m\"Total Revenue\"\u001b[0m\u001b[1;33m]\u001b[0m\u001b[1;33m\u001b[0m\u001b[1;33m\u001b[0m\u001b[0m\n\u001b[0m",
      "\u001b[1;31mNameError\u001b[0m: name 'apple' is not defined"
     ]
    }
   ],
   "source": [
    "apple.financials.loc[\"Total Revenue\"]"
   ]
  },
  {
   "cell_type": "code",
   "execution_count": 18,
   "metadata": {},
   "outputs": [
    {
     "data": {
      "text/plain": [
       "<AxesSubplot:>"
      ]
     },
     "execution_count": 18,
     "metadata": {},
     "output_type": "execute_result"
    },
    {
     "data": {
      "image/png": "[encoded data removed]",
      "text/plain": [
       "<Figure size 432x288 with 1 Axes>"
      ]
     },
     "metadata": {
      "needs_background": "light"
     },
     "output_type": "display_data"
    }
   ],
   "source": [
    "apple.financials.loc['Net Income'].plot()"
   ]
  },
  {
   "cell_type": "code",
   "execution_count": 19,
   "metadata": {},
   "outputs": [
    {
     "data": {
      "text/plain": [
       "13.185"
      ]
     },
     "execution_count": 19,
     "metadata": {},
     "output_type": "execute_result"
    }
   ],
   "source": [
    "apple.info[\"trailingEps\"]"
   ]
  },
  {
   "cell_type": "code",
   "execution_count": 20,
   "metadata": {},
   "outputs": [
    {
     "data": {
      "text/plain": [
       "15.53"
      ]
     },
     "execution_count": 20,
     "metadata": {},
     "output_type": "execute_result"
    }
   ],
   "source": [
    "apple.info[\"forwardEps\"]"
   ]
  },
  {
   "cell_type": "markdown",
   "metadata": {},
   "source": [
    "EPS sector"
   ]
  },
  {
   "cell_type": "markdown",
   "metadata": {},
   "source": [
    "EPS pares"
   ]
  },
  {
   "cell_type": "markdown",
   "metadata": {},
   "source": [
    "Balance Sheet"
   ]
  },
  {
   "cell_type": "code",
   "execution_count": 21,
   "metadata": {},
   "outputs": [
    {
     "data": {
      "text/html": [
       "<div>\n",
       "<style scoped>\n",
       "    .dataframe tbody tr th:only-of-type {\n",
       "        vertical-align: middle;\n",
       "    }\n",
       "\n",
       "    .dataframe tbody tr th {\n",
       "        vertical-align: top;\n",
       "    }\n",
       "\n",
       "    .dataframe thead th {\n",
       "        text-align: right;\n",
       "    }\n",
       "</style>\n",
       "<table border=\"1\" class=\"dataframe\">\n",
       "  <thead>\n",
       "    <tr style=\"text-align: right;\">\n",
       "      <th></th>\n",
       "      <th>2019-09-28</th>\n",
       "      <th>2018-09-29</th>\n",
       "      <th>2017-09-30</th>\n",
       "      <th>2016-09-24</th>\n",
       "    </tr>\n",
       "  </thead>\n",
       "  <tbody>\n",
       "    <tr>\n",
       "      <th>Total Liab</th>\n",
       "      <td>2.480280e+11</td>\n",
       "      <td>2.585780e+11</td>\n",
       "      <td>2.412720e+11</td>\n",
       "      <td>1.934370e+11</td>\n",
       "    </tr>\n",
       "    <tr>\n",
       "      <th>Total Stockholder Equity</th>\n",
       "      <td>9.048800e+10</td>\n",
       "      <td>1.071470e+11</td>\n",
       "      <td>1.340470e+11</td>\n",
       "      <td>1.282490e+11</td>\n",
       "    </tr>\n",
       "    <tr>\n",
       "      <th>Other Current Liab</th>\n",
       "      <td>4.324200e+10</td>\n",
       "      <td>3.929300e+10</td>\n",
       "      <td>3.809900e+10</td>\n",
       "      <td>8.243000e+09</td>\n",
       "    </tr>\n",
       "    <tr>\n",
       "      <th>Total Assets</th>\n",
       "      <td>3.385160e+11</td>\n",
       "      <td>3.657250e+11</td>\n",
       "      <td>3.753190e+11</td>\n",
       "      <td>3.216860e+11</td>\n",
       "    </tr>\n",
       "    <tr>\n",
       "      <th>Common Stock</th>\n",
       "      <td>4.517400e+10</td>\n",
       "      <td>4.020100e+10</td>\n",
       "      <td>3.586700e+10</td>\n",
       "      <td>3.125100e+10</td>\n",
       "    </tr>\n",
       "    <tr>\n",
       "      <th>Other Current Assets</th>\n",
       "      <td>1.235200e+10</td>\n",
       "      <td>1.208700e+10</td>\n",
       "      <td>1.393600e+10</td>\n",
       "      <td>8.283000e+09</td>\n",
       "    </tr>\n",
       "    <tr>\n",
       "      <th>Retained Earnings</th>\n",
       "      <td>4.589800e+10</td>\n",
       "      <td>7.040000e+10</td>\n",
       "      <td>9.833000e+10</td>\n",
       "      <td>9.636400e+10</td>\n",
       "    </tr>\n",
       "    <tr>\n",
       "      <th>Other Liab</th>\n",
       "      <td>5.050300e+10</td>\n",
       "      <td>4.891400e+10</td>\n",
       "      <td>4.325100e+10</td>\n",
       "      <td>3.900400e+10</td>\n",
       "    </tr>\n",
       "    <tr>\n",
       "      <th>Treasury Stock</th>\n",
       "      <td>-5.840000e+08</td>\n",
       "      <td>-3.454000e+09</td>\n",
       "      <td>-1.500000e+08</td>\n",
       "      <td>6.340000e+08</td>\n",
       "    </tr>\n",
       "    <tr>\n",
       "      <th>Other Assets</th>\n",
       "      <td>3.297800e+10</td>\n",
       "      <td>2.228300e+10</td>\n",
       "      <td>1.817700e+10</td>\n",
       "      <td>8.757000e+09</td>\n",
       "    </tr>\n",
       "    <tr>\n",
       "      <th>Cash</th>\n",
       "      <td>4.884400e+10</td>\n",
       "      <td>2.591300e+10</td>\n",
       "      <td>2.028900e+10</td>\n",
       "      <td>2.048400e+10</td>\n",
       "    </tr>\n",
       "    <tr>\n",
       "      <th>Total Current Liabilities</th>\n",
       "      <td>1.057180e+11</td>\n",
       "      <td>1.159290e+11</td>\n",
       "      <td>1.008140e+11</td>\n",
       "      <td>7.900600e+10</td>\n",
       "    </tr>\n",
       "    <tr>\n",
       "      <th>Short Long Term Debt</th>\n",
       "      <td>1.026000e+10</td>\n",
       "      <td>8.784000e+09</td>\n",
       "      <td>6.496000e+09</td>\n",
       "      <td>3.500000e+09</td>\n",
       "    </tr>\n",
       "    <tr>\n",
       "      <th>Other Stockholder Equity</th>\n",
       "      <td>-5.840000e+08</td>\n",
       "      <td>-3.454000e+09</td>\n",
       "      <td>-1.500000e+08</td>\n",
       "      <td>6.340000e+08</td>\n",
       "    </tr>\n",
       "    <tr>\n",
       "      <th>Property Plant Equipment</th>\n",
       "      <td>3.737800e+10</td>\n",
       "      <td>4.130400e+10</td>\n",
       "      <td>3.378300e+10</td>\n",
       "      <td>2.701000e+10</td>\n",
       "    </tr>\n",
       "    <tr>\n",
       "      <th>Total Current Assets</th>\n",
       "      <td>1.628190e+11</td>\n",
       "      <td>1.313390e+11</td>\n",
       "      <td>1.286450e+11</td>\n",
       "      <td>1.068690e+11</td>\n",
       "    </tr>\n",
       "    <tr>\n",
       "      <th>Long Term Investments</th>\n",
       "      <td>1.053410e+11</td>\n",
       "      <td>1.707990e+11</td>\n",
       "      <td>1.947140e+11</td>\n",
       "      <td>1.704300e+11</td>\n",
       "    </tr>\n",
       "    <tr>\n",
       "      <th>Net Tangible Assets</th>\n",
       "      <td>9.048800e+10</td>\n",
       "      <td>1.071470e+11</td>\n",
       "      <td>1.340470e+11</td>\n",
       "      <td>1.196290e+11</td>\n",
       "    </tr>\n",
       "    <tr>\n",
       "      <th>Short Term Investments</th>\n",
       "      <td>5.171300e+10</td>\n",
       "      <td>4.038800e+10</td>\n",
       "      <td>5.389200e+10</td>\n",
       "      <td>4.667100e+10</td>\n",
       "    </tr>\n",
       "    <tr>\n",
       "      <th>Net Receivables</th>\n",
       "      <td>4.580400e+10</td>\n",
       "      <td>4.899500e+10</td>\n",
       "      <td>3.567300e+10</td>\n",
       "      <td>2.929900e+10</td>\n",
       "    </tr>\n",
       "    <tr>\n",
       "      <th>Long Term Debt</th>\n",
       "      <td>9.180700e+10</td>\n",
       "      <td>9.373500e+10</td>\n",
       "      <td>9.720700e+10</td>\n",
       "      <td>7.542700e+10</td>\n",
       "    </tr>\n",
       "    <tr>\n",
       "      <th>Inventory</th>\n",
       "      <td>4.106000e+09</td>\n",
       "      <td>3.956000e+09</td>\n",
       "      <td>4.855000e+09</td>\n",
       "      <td>2.132000e+09</td>\n",
       "    </tr>\n",
       "    <tr>\n",
       "      <th>Accounts Payable</th>\n",
       "      <td>4.623600e+10</td>\n",
       "      <td>5.588800e+10</td>\n",
       "      <td>4.424200e+10</td>\n",
       "      <td>3.729400e+10</td>\n",
       "    </tr>\n",
       "    <tr>\n",
       "      <th>Intangible Assets</th>\n",
       "      <td>NaN</td>\n",
       "      <td>NaN</td>\n",
       "      <td>NaN</td>\n",
       "      <td>3.206000e+09</td>\n",
       "    </tr>\n",
       "    <tr>\n",
       "      <th>Good Will</th>\n",
       "      <td>NaN</td>\n",
       "      <td>NaN</td>\n",
       "      <td>NaN</td>\n",
       "      <td>5.414000e+09</td>\n",
       "    </tr>\n",
       "  </tbody>\n",
       "</table>\n",
       "</div>"
      ],
      "text/plain": [
       "                             2019-09-28    2018-09-29    2017-09-30  \\\n",
       "Total Liab                 2.480280e+11  2.585780e+11  2.412720e+11   \n",
       "Total Stockholder Equity   9.048800e+10  1.071470e+11  1.340470e+11   \n",
       "Other Current Liab         4.324200e+10  3.929300e+10  3.809900e+10   \n",
       "Total Assets               3.385160e+11  3.657250e+11  3.753190e+11   \n",
       "Common Stock               4.517400e+10  4.020100e+10  3.586700e+10   \n",
       "Other Current Assets       1.235200e+10  1.208700e+10  1.393600e+10   \n",
       "Retained Earnings          4.589800e+10  7.040000e+10  9.833000e+10   \n",
       "Other Liab                 5.050300e+10  4.891400e+10  4.325100e+10   \n",
       "Treasury Stock            -5.840000e+08 -3.454000e+09 -1.500000e+08   \n",
       "Other Assets               3.297800e+10  2.228300e+10  1.817700e+10   \n",
       "Cash                       4.884400e+10  2.591300e+10  2.028900e+10   \n",
       "Total Current Liabilities  1.057180e+11  1.159290e+11  1.008140e+11   \n",
       "Short Long Term Debt       1.026000e+10  8.784000e+09  6.496000e+09   \n",
       "Other Stockholder Equity  -5.840000e+08 -3.454000e+09 -1.500000e+08   \n",
       "Property Plant Equipment   3.737800e+10  4.130400e+10  3.378300e+10   \n",
       "Total Current Assets       1.628190e+11  1.313390e+11  1.286450e+11   \n",
       "Long Term Investments      1.053410e+11  1.707990e+11  1.947140e+11   \n",
       "Net Tangible Assets        9.048800e+10  1.071470e+11  1.340470e+11   \n",
       "Short Term Investments     5.171300e+10  4.038800e+10  5.389200e+10   \n",
       "Net Receivables            4.580400e+10  4.899500e+10  3.567300e+10   \n",
       "Long Term Debt             9.180700e+10  9.373500e+10  9.720700e+10   \n",
       "Inventory                  4.106000e+09  3.956000e+09  4.855000e+09   \n",
       "Accounts Payable           4.623600e+10  5.588800e+10  4.424200e+10   \n",
       "Intangible Assets                   NaN           NaN           NaN   \n",
       "Good Will                           NaN           NaN           NaN   \n",
       "\n",
       "                             2016-09-24  \n",
       "Total Liab                 1.934370e+11  \n",
       "Total Stockholder Equity   1.282490e+11  \n",
       "Other Current Liab         8.243000e+09  \n",
       "Total Assets               3.216860e+11  \n",
       "Common Stock               3.125100e+10  \n",
       "Other Current Assets       8.283000e+09  \n",
       "Retained Earnings          9.636400e+10  \n",
       "Other Liab                 3.900400e+10  \n",
       "Treasury Stock             6.340000e+08  \n",
       "Other Assets               8.757000e+09  \n",
       "Cash                       2.048400e+10  \n",
       "Total Current Liabilities  7.900600e+10  \n",
       "Short Long Term Debt       3.500000e+09  \n",
       "Other Stockholder Equity   6.340000e+08  \n",
       "Property Plant Equipment   2.701000e+10  \n",
       "Total Current Assets       1.068690e+11  \n",
       "Long Term Investments      1.704300e+11  \n",
       "Net Tangible Assets        1.196290e+11  \n",
       "Short Term Investments     4.667100e+10  \n",
       "Net Receivables            2.929900e+10  \n",
       "Long Term Debt             7.542700e+10  \n",
       "Inventory                  2.132000e+09  \n",
       "Accounts Payable           3.729400e+10  \n",
       "Intangible Assets          3.206000e+09  \n",
       "Good Will                  5.414000e+09  "
      ]
     },
     "execution_count": 21,
     "metadata": {},
     "output_type": "execute_result"
    }
   ],
   "source": [
    "apple.balance_sheet"
   ]
  },
  {
   "cell_type": "code",
   "execution_count": 22,
   "metadata": {},
   "outputs": [
    {
     "data": {
      "text/plain": [
       "<AxesSubplot:ylabel='vals'>"
      ]
     },
     "execution_count": 22,
     "metadata": {},
     "output_type": "execute_result"
    },
    {
     "data": {
      "image/png": "[encoded data removed]",
      "text/plain": [
       "<Figure size 432x288 with 1 Axes>"
      ]
     },
     "metadata": {
      "needs_background": "light"
     },
     "output_type": "display_data"
    }
   ],
   "source": [
    "df = apple.balance_sheet.loc[[\"Total Assets\",\"Total Liab\"]].T.reset_index()\n",
    "df1 = df.melt('', var_name='cols',  value_name='vals')\n",
    "seaborn.lineplot(x=\"\",y=\"vals\", hue= \"cols\", data= df1)"
   ]
  },
  {
   "cell_type": "code",
   "execution_count": 23,
   "metadata": {},
   "outputs": [
    {
     "data": {
      "text/plain": [
       "<AxesSubplot:ylabel='vals'>"
      ]
     },
     "execution_count": 23,
     "metadata": {},
     "output_type": "execute_result"
    },
    {
     "data": {
      "image/png": "[encoded data removed]",
      "text/plain": [
       "<Figure size 432x288 with 1 Axes>"
      ]
     },
     "metadata": {
      "needs_background": "light"
     },
     "output_type": "display_data"
    }
   ],
   "source": [
    "df2 = apple.balance_sheet.loc[[\"Total Current Assets\",\"Total Current Liabilities\"]].T.reset_index()\n",
    "df3 = df2.melt('', var_name='cols',  value_name='vals')\n",
    "seaborn.lineplot(x=\"\",y=\"vals\", hue= \"cols\", data= df3)"
   ]
  },
  {
   "cell_type": "code",
   "execution_count": 24,
   "metadata": {},
   "outputs": [
    {
     "data": {
      "text/plain": [
       "1.469"
      ]
     },
     "execution_count": 24,
     "metadata": {},
     "output_type": "execute_result"
    }
   ],
   "source": [
    "apple.info[\"currentRatio\"]"
   ]
  },
  {
   "cell_type": "code",
   "execution_count": 25,
   "metadata": {},
   "outputs": [
    {
     "data": {
      "text/plain": [
       "1.312"
      ]
     },
     "execution_count": 25,
     "metadata": {},
     "output_type": "execute_result"
    }
   ],
   "source": [
    "apple.info[\"quickRatio\"]"
   ]
  },
  {
   "cell_type": "code",
   "execution_count": 26,
   "metadata": {},
   "outputs": [
    {
     "data": {
      "text/plain": [
       "0.69248"
      ]
     },
     "execution_count": 26,
     "metadata": {},
     "output_type": "execute_result"
    }
   ],
   "source": [
    "apple.info[\"returnOnEquity\"]"
   ]
  },
  {
   "cell_type": "markdown",
   "metadata": {},
   "source": [
    "ROE Sector"
   ]
  },
  {
   "cell_type": "markdown",
   "metadata": {},
   "source": [
    "Cashflow Last 4 Y"
   ]
  },
  {
   "cell_type": "code",
   "execution_count": 27,
   "metadata": {},
   "outputs": [
    {
     "data": {
      "text/html": [
       "<div>\n",
       "<style scoped>\n",
       "    .dataframe tbody tr th:only-of-type {\n",
       "        vertical-align: middle;\n",
       "    }\n",
       "\n",
       "    .dataframe tbody tr th {\n",
       "        vertical-align: top;\n",
       "    }\n",
       "\n",
       "    .dataframe thead th {\n",
       "        text-align: right;\n",
       "    }\n",
       "</style>\n",
       "<table border=\"1\" class=\"dataframe\">\n",
       "  <thead>\n",
       "    <tr style=\"text-align: right;\">\n",
       "      <th></th>\n",
       "      <th>2019-09-28</th>\n",
       "      <th>2018-09-29</th>\n",
       "      <th>2017-09-30</th>\n",
       "      <th>2016-09-24</th>\n",
       "    </tr>\n",
       "  </thead>\n",
       "  <tbody>\n",
       "    <tr>\n",
       "      <th>Investments</th>\n",
       "      <td>5.809300e+10</td>\n",
       "      <td>3.084500e+10</td>\n",
       "      <td>-3.354200e+10</td>\n",
       "      <td>-3.202200e+10</td>\n",
       "    </tr>\n",
       "    <tr>\n",
       "      <th>Change To Liabilities</th>\n",
       "      <td>-2.548000e+09</td>\n",
       "      <td>9.172000e+09</td>\n",
       "      <td>8.373000e+09</td>\n",
       "      <td>5.630000e+08</td>\n",
       "    </tr>\n",
       "    <tr>\n",
       "      <th>Total Cashflows From Investing Activities</th>\n",
       "      <td>4.589600e+10</td>\n",
       "      <td>1.606600e+10</td>\n",
       "      <td>-4.644600e+10</td>\n",
       "      <td>-4.597700e+10</td>\n",
       "    </tr>\n",
       "    <tr>\n",
       "      <th>Net Borrowings</th>\n",
       "      <td>-7.819000e+09</td>\n",
       "      <td>4.320000e+08</td>\n",
       "      <td>2.901400e+10</td>\n",
       "      <td>2.205700e+10</td>\n",
       "    </tr>\n",
       "    <tr>\n",
       "      <th>Total Cash From Financing Activities</th>\n",
       "      <td>-9.097600e+10</td>\n",
       "      <td>-8.787600e+10</td>\n",
       "      <td>-1.797400e+10</td>\n",
       "      <td>-2.089000e+10</td>\n",
       "    </tr>\n",
       "    <tr>\n",
       "      <th>Change To Operating Activities</th>\n",
       "      <td>-8.960000e+08</td>\n",
       "      <td>3.001600e+10</td>\n",
       "      <td>-8.480000e+09</td>\n",
       "      <td>-9.020000e+08</td>\n",
       "    </tr>\n",
       "    <tr>\n",
       "      <th>Issuance Of Stock</th>\n",
       "      <td>7.810000e+08</td>\n",
       "      <td>6.690000e+08</td>\n",
       "      <td>5.550000e+08</td>\n",
       "      <td>4.950000e+08</td>\n",
       "    </tr>\n",
       "    <tr>\n",
       "      <th>Net Income</th>\n",
       "      <td>5.525600e+10</td>\n",
       "      <td>5.953100e+10</td>\n",
       "      <td>4.835100e+10</td>\n",
       "      <td>4.568700e+10</td>\n",
       "    </tr>\n",
       "    <tr>\n",
       "      <th>Change In Cash</th>\n",
       "      <td>2.431100e+10</td>\n",
       "      <td>5.624000e+09</td>\n",
       "      <td>-1.950000e+08</td>\n",
       "      <td>-6.360000e+08</td>\n",
       "    </tr>\n",
       "    <tr>\n",
       "      <th>Repurchase Of Stock</th>\n",
       "      <td>-6.971400e+10</td>\n",
       "      <td>-7.526500e+10</td>\n",
       "      <td>-3.477400e+10</td>\n",
       "      <td>-3.129200e+10</td>\n",
       "    </tr>\n",
       "    <tr>\n",
       "      <th>Total Cash From Operating Activities</th>\n",
       "      <td>6.939100e+10</td>\n",
       "      <td>7.743400e+10</td>\n",
       "      <td>6.422500e+10</td>\n",
       "      <td>6.623100e+10</td>\n",
       "    </tr>\n",
       "    <tr>\n",
       "      <th>Depreciation</th>\n",
       "      <td>1.254700e+10</td>\n",
       "      <td>1.090300e+10</td>\n",
       "      <td>1.015700e+10</td>\n",
       "      <td>1.050500e+10</td>\n",
       "    </tr>\n",
       "    <tr>\n",
       "      <th>Other Cashflows From Investing Activities</th>\n",
       "      <td>-1.078000e+09</td>\n",
       "      <td>-7.450000e+08</td>\n",
       "      <td>-1.240000e+08</td>\n",
       "      <td>-9.240000e+08</td>\n",
       "    </tr>\n",
       "    <tr>\n",
       "      <th>Dividends Paid</th>\n",
       "      <td>-1.411900e+10</td>\n",
       "      <td>-1.371200e+10</td>\n",
       "      <td>-1.276900e+10</td>\n",
       "      <td>-1.215000e+10</td>\n",
       "    </tr>\n",
       "    <tr>\n",
       "      <th>Change To Inventory</th>\n",
       "      <td>-2.890000e+08</td>\n",
       "      <td>8.280000e+08</td>\n",
       "      <td>-2.723000e+09</td>\n",
       "      <td>2.170000e+08</td>\n",
       "    </tr>\n",
       "    <tr>\n",
       "      <th>Change To Account Receivables</th>\n",
       "      <td>2.450000e+08</td>\n",
       "      <td>-5.322000e+09</td>\n",
       "      <td>-2.093000e+09</td>\n",
       "      <td>5.270000e+08</td>\n",
       "    </tr>\n",
       "    <tr>\n",
       "      <th>Other Cashflows From Financing Activities</th>\n",
       "      <td>-1.050000e+08</td>\n",
       "      <td>-1.050000e+08</td>\n",
       "      <td>-1.050000e+08</td>\n",
       "      <td>-1.050000e+08</td>\n",
       "    </tr>\n",
       "    <tr>\n",
       "      <th>Change To Netincome</th>\n",
       "      <td>5.076000e+09</td>\n",
       "      <td>-2.769400e+10</td>\n",
       "      <td>1.064000e+10</td>\n",
       "      <td>9.634000e+09</td>\n",
       "    </tr>\n",
       "    <tr>\n",
       "      <th>Capital Expenditures</th>\n",
       "      <td>-1.049500e+10</td>\n",
       "      <td>-1.331300e+10</td>\n",
       "      <td>-1.245100e+10</td>\n",
       "      <td>-1.273400e+10</td>\n",
       "    </tr>\n",
       "  </tbody>\n",
       "</table>\n",
       "</div>"
      ],
      "text/plain": [
       "                                             2019-09-28    2018-09-29  \\\n",
       "Investments                                5.809300e+10  3.084500e+10   \n",
       "Change To Liabilities                     -2.548000e+09  9.172000e+09   \n",
       "Total Cashflows From Investing Activities  4.589600e+10  1.606600e+10   \n",
       "Net Borrowings                            -7.819000e+09  4.320000e+08   \n",
       "Total Cash From Financing Activities      -9.097600e+10 -8.787600e+10   \n",
       "Change To Operating Activities            -8.960000e+08  3.001600e+10   \n",
       "Issuance Of Stock                          7.810000e+08  6.690000e+08   \n",
       "Net Income                                 5.525600e+10  5.953100e+10   \n",
       "Change In Cash                             2.431100e+10  5.624000e+09   \n",
       "Repurchase Of Stock                       -6.971400e+10 -7.526500e+10   \n",
       "Total Cash From Operating Activities       6.939100e+10  7.743400e+10   \n",
       "Depreciation                               1.254700e+10  1.090300e+10   \n",
       "Other Cashflows From Investing Activities -1.078000e+09 -7.450000e+08   \n",
       "Dividends Paid                            -1.411900e+10 -1.371200e+10   \n",
       "Change To Inventory                       -2.890000e+08  8.280000e+08   \n",
       "Change To Account Receivables              2.450000e+08 -5.322000e+09   \n",
       "Other Cashflows From Financing Activities -1.050000e+08 -1.050000e+08   \n",
       "Change To Netincome                        5.076000e+09 -2.769400e+10   \n",
       "Capital Expenditures                      -1.049500e+10 -1.331300e+10   \n",
       "\n",
       "                                             2017-09-30    2016-09-24  \n",
       "Investments                               -3.354200e+10 -3.202200e+10  \n",
       "Change To Liabilities                      8.373000e+09  5.630000e+08  \n",
       "Total Cashflows From Investing Activities -4.644600e+10 -4.597700e+10  \n",
       "Net Borrowings                             2.901400e+10  2.205700e+10  \n",
       "Total Cash From Financing Activities      -1.797400e+10 -2.089000e+10  \n",
       "Change To Operating Activities            -8.480000e+09 -9.020000e+08  \n",
       "Issuance Of Stock                          5.550000e+08  4.950000e+08  \n",
       "Net Income                                 4.835100e+10  4.568700e+10  \n",
       "Change In Cash                            -1.950000e+08 -6.360000e+08  \n",
       "Repurchase Of Stock                       -3.477400e+10 -3.129200e+10  \n",
       "Total Cash From Operating Activities       6.422500e+10  6.623100e+10  \n",
       "Depreciation                               1.015700e+10  1.050500e+10  \n",
       "Other Cashflows From Investing Activities -1.240000e+08 -9.240000e+08  \n",
       "Dividends Paid                            -1.276900e+10 -1.215000e+10  \n",
       "Change To Inventory                       -2.723000e+09  2.170000e+08  \n",
       "Change To Account Receivables             -2.093000e+09  5.270000e+08  \n",
       "Other Cashflows From Financing Activities -1.050000e+08 -1.050000e+08  \n",
       "Change To Netincome                        1.064000e+10  9.634000e+09  \n",
       "Capital Expenditures                      -1.245100e+10 -1.273400e+10  "
      ]
     },
     "execution_count": 27,
     "metadata": {},
     "output_type": "execute_result"
    }
   ],
   "source": [
    "apple.cashflow"
   ]
  },
  {
   "cell_type": "code",
   "execution_count": 28,
   "metadata": {},
   "outputs": [
    {
     "data": {
      "text/plain": [
       "52257624064"
      ]
     },
     "execution_count": 28,
     "metadata": {},
     "output_type": "execute_result"
    }
   ],
   "source": [
    "apple.info[\"freeCashflow\"]"
   ]
  },
  {
   "cell_type": "markdown",
   "metadata": {},
   "source": [
    "Ratios"
   ]
  },
  {
   "cell_type": "code",
   "execution_count": 29,
   "metadata": {},
   "outputs": [
    {
     "data": {
      "text/plain": [
       "34.03337"
      ]
     },
     "execution_count": 29,
     "metadata": {},
     "output_type": "execute_result"
    }
   ],
   "source": [
    "apple.info[\"trailingPE\"]"
   ]
  },
  {
   "cell_type": "code",
   "execution_count": 30,
   "metadata": {},
   "outputs": [
    {
     "data": {
      "text/plain": [
       "28.8944"
      ]
     },
     "execution_count": 30,
     "metadata": {},
     "output_type": "execute_result"
    }
   ],
   "source": [
    "apple.info[\"forwardPE\"]"
   ]
  },
  {
   "cell_type": "code",
   "execution_count": 31,
   "metadata": {},
   "outputs": [
    {
     "data": {
      "text/plain": [
       "2.72"
      ]
     },
     "execution_count": 31,
     "metadata": {},
     "output_type": "execute_result"
    }
   ],
   "source": [
    "apple.info[\"pegRatio\"]"
   ]
  },
  {
   "cell_type": "markdown",
   "metadata": {},
   "source": [
    "Earnings"
   ]
  },
  {
   "cell_type": "code",
   "execution_count": 32,
   "metadata": {},
   "outputs": [
    {
     "data": {
      "text/html": [
       "<div>\n",
       "<style scoped>\n",
       "    .dataframe tbody tr th:only-of-type {\n",
       "        vertical-align: middle;\n",
       "    }\n",
       "\n",
       "    .dataframe tbody tr th {\n",
       "        vertical-align: top;\n",
       "    }\n",
       "\n",
       "    .dataframe thead th {\n",
       "        text-align: right;\n",
       "    }\n",
       "</style>\n",
       "<table border=\"1\" class=\"dataframe\">\n",
       "  <thead>\n",
       "    <tr style=\"text-align: right;\">\n",
       "      <th></th>\n",
       "      <th>Revenue</th>\n",
       "      <th>Earnings</th>\n",
       "    </tr>\n",
       "    <tr>\n",
       "      <th>Year</th>\n",
       "      <th></th>\n",
       "      <th></th>\n",
       "    </tr>\n",
       "  </thead>\n",
       "  <tbody>\n",
       "    <tr>\n",
       "      <th>2016</th>\n",
       "      <td>215639000000</td>\n",
       "      <td>45687000000</td>\n",
       "    </tr>\n",
       "    <tr>\n",
       "      <th>2017</th>\n",
       "      <td>229234000000</td>\n",
       "      <td>48351000000</td>\n",
       "    </tr>\n",
       "    <tr>\n",
       "      <th>2018</th>\n",
       "      <td>265595000000</td>\n",
       "      <td>59531000000</td>\n",
       "    </tr>\n",
       "    <tr>\n",
       "      <th>2019</th>\n",
       "      <td>260174000000</td>\n",
       "      <td>55256000000</td>\n",
       "    </tr>\n",
       "  </tbody>\n",
       "</table>\n",
       "</div>"
      ],
      "text/plain": [
       "           Revenue     Earnings\n",
       "Year                           \n",
       "2016  215639000000  45687000000\n",
       "2017  229234000000  48351000000\n",
       "2018  265595000000  59531000000\n",
       "2019  260174000000  55256000000"
      ]
     },
     "execution_count": 32,
     "metadata": {},
     "output_type": "execute_result"
    }
   ],
   "source": [
    "apple.earnings"
   ]
  },
  {
   "cell_type": "markdown",
   "metadata": {},
   "source": [
    "Sustainability"
   ]
  },
  {
   "cell_type": "markdown",
   "metadata": {},
   "source": [
    "Analyst Recommendations"
   ]
  },
  {
   "cell_type": "code",
   "execution_count": 34,
   "metadata": {},
   "outputs": [
    {
     "data": {
      "text/html": [
       "<div>\n",
       "<style scoped>\n",
       "    .dataframe tbody tr th:only-of-type {\n",
       "        vertical-align: middle;\n",
       "    }\n",
       "\n",
       "    .dataframe tbody tr th {\n",
       "        vertical-align: top;\n",
       "    }\n",
       "\n",
       "    .dataframe thead th {\n",
       "        text-align: right;\n",
       "    }\n",
       "</style>\n",
       "<table border=\"1\" class=\"dataframe\">\n",
       "  <thead>\n",
       "    <tr style=\"text-align: right;\">\n",
       "      <th></th>\n",
       "      <th>Firm</th>\n",
       "      <th>From Grade</th>\n",
       "      <th>Action</th>\n",
       "    </tr>\n",
       "    <tr>\n",
       "      <th>To Grade</th>\n",
       "      <th></th>\n",
       "      <th></th>\n",
       "      <th></th>\n",
       "    </tr>\n",
       "  </thead>\n",
       "  <tbody>\n",
       "    <tr>\n",
       "      <th>Buy</th>\n",
       "      <td>6</td>\n",
       "      <td>6</td>\n",
       "      <td>6</td>\n",
       "    </tr>\n",
       "    <tr>\n",
       "      <th>Neutral</th>\n",
       "      <td>2</td>\n",
       "      <td>2</td>\n",
       "      <td>2</td>\n",
       "    </tr>\n",
       "    <tr>\n",
       "      <th>Outperform</th>\n",
       "      <td>4</td>\n",
       "      <td>4</td>\n",
       "      <td>4</td>\n",
       "    </tr>\n",
       "    <tr>\n",
       "      <th>Overweight</th>\n",
       "      <td>2</td>\n",
       "      <td>2</td>\n",
       "      <td>2</td>\n",
       "    </tr>\n",
       "  </tbody>\n",
       "</table>\n",
       "</div>"
      ],
      "text/plain": [
       "            Firm  From Grade  Action\n",
       "To Grade                            \n",
       "Buy            6           6       6\n",
       "Neutral        2           2       2\n",
       "Outperform     4           4       4\n",
       "Overweight     2           2       2"
      ]
     },
     "execution_count": 34,
     "metadata": {},
     "output_type": "execute_result"
    }
   ],
   "source": [
    "apple.recommendations[\"2020-07\"].groupby(\"To Grade\").count()"
   ]
  },
  {
   "cell_type": "markdown",
   "metadata": {},
   "source": [
    "Calendar"
   ]
  },
  {
   "cell_type": "code",
   "execution_count": 35,
   "metadata": {},
   "outputs": [
    {
     "data": {
      "text/html": [
       "<div>\n",
       "<style scoped>\n",
       "    .dataframe tbody tr th:only-of-type {\n",
       "        vertical-align: middle;\n",
       "    }\n",
       "\n",
       "    .dataframe tbody tr th {\n",
       "        vertical-align: top;\n",
       "    }\n",
       "\n",
       "    .dataframe thead th {\n",
       "        text-align: right;\n",
       "    }\n",
       "</style>\n",
       "<table border=\"1\" class=\"dataframe\">\n",
       "  <thead>\n",
       "    <tr style=\"text-align: right;\">\n",
       "      <th></th>\n",
       "      <th>0</th>\n",
       "      <th>1</th>\n",
       "    </tr>\n",
       "  </thead>\n",
       "  <tbody>\n",
       "    <tr>\n",
       "      <th>Earnings Date</th>\n",
       "      <td>2020-10-28 00:00:00</td>\n",
       "      <td>2020-11-02 00:00:00</td>\n",
       "    </tr>\n",
       "    <tr>\n",
       "      <th>Earnings Average</th>\n",
       "      <td>2.84</td>\n",
       "      <td>2.84</td>\n",
       "    </tr>\n",
       "    <tr>\n",
       "      <th>Earnings Low</th>\n",
       "      <td>2.18</td>\n",
       "      <td>2.18</td>\n",
       "    </tr>\n",
       "    <tr>\n",
       "      <th>Earnings High</th>\n",
       "      <td>3.44</td>\n",
       "      <td>3.44</td>\n",
       "    </tr>\n",
       "    <tr>\n",
       "      <th>Revenue Average</th>\n",
       "      <td>63962000000</td>\n",
       "      <td>63962000000</td>\n",
       "    </tr>\n",
       "    <tr>\n",
       "      <th>Revenue Low</th>\n",
       "      <td>52545000000</td>\n",
       "      <td>52545000000</td>\n",
       "    </tr>\n",
       "    <tr>\n",
       "      <th>Revenue High</th>\n",
       "      <td>70547000000</td>\n",
       "      <td>70547000000</td>\n",
       "    </tr>\n",
       "  </tbody>\n",
       "</table>\n",
       "</div>"
      ],
      "text/plain": [
       "                                    0                    1\n",
       "Earnings Date     2020-10-28 00:00:00  2020-11-02 00:00:00\n",
       "Earnings Average                 2.84                 2.84\n",
       "Earnings Low                     2.18                 2.18\n",
       "Earnings High                    3.44                 3.44\n",
       "Revenue Average           63962000000          63962000000\n",
       "Revenue Low               52545000000          52545000000\n",
       "Revenue High              70547000000          70547000000"
      ]
     },
     "execution_count": 35,
     "metadata": {},
     "output_type": "execute_result"
    }
   ],
   "source": [
    "apple.calendar"
   ]
  },
  {
   "cell_type": "code",
   "execution_count": null,
   "metadata": {},
   "outputs": [],
   "source": []
  }
 ],
 "metadata": {
  "kernelspec": {
   "display_name": "Python 3",
   "language": "python",
   "name": "python3"
  },
  "language_info": {
   "codemirror_mode": {
    "name": "ipython",
    "version": 3
   },
   "file_extension": ".py",
   "mimetype": "text/x-python",
   "name": "python",
   "nbconvert_exporter": "python",
   "pygments_lexer": "ipython3",
   "version": "3.7.7"
  }
 },
 "nbformat": 4,
 "nbformat_minor": 4
}
